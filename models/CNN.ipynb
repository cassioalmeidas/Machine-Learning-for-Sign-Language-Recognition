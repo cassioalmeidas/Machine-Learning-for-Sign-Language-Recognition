{
  "nbformat": 4,
  "nbformat_minor": 0,
  "metadata": {
    "colab": {
      "name": "lab276.ipynb",
      "provenance": [],
      "collapsed_sections": [],
      "machine_shape": "hm"
    },
    "kernelspec": {
      "name": "python3",
      "display_name": "Python 3"
    },
    "accelerator": "GPU"
  },
  "cells": [
    {
      "cell_type": "code",
      "metadata": {
        "id": "6L2nMs0CntPH"
      },
      "source": [
        "import numpy as np\n",
        "import tensorflow as tf\n",
        "import random as python_random\n",
        "# fix random seed for reproducibility\n",
        "np.random.seed(73)\n",
        "tf.random.set_seed(73)\n",
        "python_random.seed(73)"
      ],
      "execution_count": null,
      "outputs": []
    },
    {
      "cell_type": "code",
      "metadata": {
        "id": "OntDe6Svd2CY"
      },
      "source": [
        "# Import dataset\n",
        "from scipy.io import loadmat\n",
        "dataset = loadmat('/content/drive/My Drive/Colab Notebooks/dataset/dataset_lab_276_dl.mat')"
      ],
      "execution_count": null,
      "outputs": []
    },
    {
      "cell_type": "code",
      "metadata": {
        "id": "j6uzsM0DBjyV"
      },
      "source": [
        "# Extract and reshape CSI values\n",
        "csi = dataset['csid_lab']\n",
        "csi_abs = np.abs(csi)\n",
        "csi_ang = np.angle(csi)\n",
        "csi_tensor = np.concatenate((csi_abs,csi_ang),1)\n",
        "csi_tensor = np.swapaxes(csi_tensor,0,3)\n",
        "csi_tensor = np.swapaxes(csi_tensor,1,3)\n",
        "csi_tensor = np.swapaxes(csi_tensor,2,3)\n",
        "csi_tensor /= np.max(csi_tensor)"
      ],
      "execution_count": null,
      "outputs": []
    },
    {
      "cell_type": "code",
      "metadata": {
        "id": "LEV-W7AiSRQa"
      },
      "source": [
        "# Encode labels\n",
        "from tensorflow.keras.utils import to_categorical\n",
        "from sklearn.preprocessing import LabelEncoder\n",
        "label = dataset['label_lab']\n",
        "encoder = LabelEncoder()\n",
        "encoder.fit(label.ravel())\n",
        "encoded_Y = encoder.transform(label.ravel())\n",
        "dummy_y = to_categorical(encoded_Y)"
      ],
      "execution_count": null,
      "outputs": []
    },
    {
      "cell_type": "code",
      "metadata": {
        "id": "ddEag9H4a2Nt"
      },
      "source": [
        "# Split the dataset into training and testing sets\n",
        "from sklearn.model_selection import train_test_split\n",
        "X_train, X_test, y_train, y_test = train_test_split(\n",
        "     csi_tensor, dummy_y, test_size=0.2, random_state=73)\n",
        "X_train = tf.convert_to_tensor(X_train)\n",
        "X_test = tf.convert_to_tensor(X_test)"
      ],
      "execution_count": null,
      "outputs": []
    },
    {
      "cell_type": "code",
      "metadata": {
        "id": "j4pmR6ZbCd8z"
      },
      "source": [
        "# Hyperparameters\n",
        "from tensorflow.keras import optimizers, regularizers\n",
        "numKernel = 16\n",
        "kernelSize = (5,5)\n",
        "poolSize = (3,3)\n",
        "optimizer = optimizers.SGD()\n",
        "epochs = 10\n",
        "batchSize = 10\n",
        "numClasses = 276"
      ],
      "execution_count": null,
      "outputs": []
    },
    {
      "cell_type": "code",
      "metadata": {
        "id": "INkHrCwJfNk_"
      },
      "source": [
        "# Create model\n",
        "from tensorflow.keras.models import Sequential\n",
        "from tensorflow.keras.layers import Conv2D, Activation, Flatten, Dense\n",
        "from tensorflow.keras.layers import AveragePooling2D, BatchNormalization, Dropout, MaxPool2D\n",
        "def baseline_model():\n",
        "    model = Sequential()\n",
        "    model.add(Conv2D(numKernel, kernelSize,\n",
        "                     input_shape=csi_tensor.shape[1:]\n",
        "                     ))\n",
        "    model.add(BatchNormalization())\n",
        "    model.add(Activation('relu'))\n",
        "    model.add(AveragePooling2D(pool_size=poolSize))\n",
        "    model.add(Flatten())\n",
        "    model.add(Dense(numClasses))\n",
        "    model.add(Activation('softmax'))\n",
        "\n",
        "    model.compile(loss='categorical_crossentropy',\n",
        "                  optimizer= optimizer,\n",
        "                  metrics=['accuracy'])\n",
        "    return model\n",
        "model = baseline_model()"
      ],
      "execution_count": null,
      "outputs": []
    },
    {
      "cell_type": "code",
      "metadata": {
        "id": "k5ACUiay_VeD"
      },
      "source": [
        "# Build the model and training\n",
        "from tensorflow.keras.wrappers.scikit_learn import KerasClassifier\n",
        "estimator = KerasClassifier(build_fn=baseline_model, epochs=epochs,batch_size= batchSize, verbose=1)\n",
        "\n",
        "history = estimator.fit(X_train, y_train, \n",
        "                        validation_data = (X_test,y_test))"
      ],
      "execution_count": null,
      "outputs": []
    },
    {
      "cell_type": "code",
      "metadata": {
        "id": "bgfZUS7Lpvde"
      },
      "source": [
        "# 5-fold cross validation\n",
        "from sklearn.model_selection import KFold, cross_val_score\n",
        "kfold = KFold(n_splits=5, shuffle= True, random_state= 73)\n",
        "crossval = cross_val_score(estimator, csi_tensor, dummy_y, cv = kfold)\n",
        "print(crossval.mean())"
      ],
      "execution_count": null,
      "outputs": []
    },
    {
      "cell_type": "code",
      "metadata": {
        "id": "c2dMFdfIBlyo"
      },
      "source": [
        "# List all data in history\n",
        "import matplotlib.pyplot as plt\n",
        "print(history.history.keys())\n",
        "plt.figure(num=None, figsize=(8, 6), dpi=80, facecolor='w', edgecolor='k')\n",
        "# Summarize history for accuracy\n",
        "plt.plot(history.history['accuracy'])\n",
        "plt.plot(history.history['val_accuracy'])\n",
        "plt.title('model accuracy')\n",
        "plt.ylabel('accuracy')\n",
        "plt.xlabel('epoch')\n",
        "plt.legend(['train', 'test'], loc='upper left')\n",
        "plt.show()\n",
        "# Summarize history for loss\n",
        "plt.figure(num=None, figsize=(8, 6), dpi=80, facecolor='w', edgecolor='k')\n",
        "plt.plot(history.history['loss'])\n",
        "plt.plot(history.history['val_loss'])\n",
        "plt.title('model loss')\n",
        "plt.ylabel('loss')\n",
        "plt.xlabel('epoch')\n",
        "plt.legend(['train', 'test'], loc='upper left')\n",
        "plt.show()"
      ],
      "execution_count": null,
      "outputs": []
    }
  ]
}